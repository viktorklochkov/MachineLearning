{
 "cells": [
  {
   "cell_type": "markdown",
   "metadata": {},
   "source": [
    "# k-nearest neighbors classification\n",
    "Import libraries:"
   ]
  },
  {
   "cell_type": "code",
   "execution_count": 5,
   "metadata": {},
   "outputs": [],
   "source": [
    "import itertools\n",
    "import numpy as np\n",
    "import matplotlib.pyplot as plt\n",
    "from matplotlib.ticker import NullFormatter\n",
    "import pandas as pd\n",
    "import numpy as np\n",
    "import matplotlib.ticker as ticker\n",
    "\n",
    "from sklearn import preprocessing\n",
    "from sklearn.model_selection import train_test_split\n",
    "from sklearn.neighbors import KNeighborsClassifier\n",
    "from sklearn import metrics"
   ]
  },
  {
   "cell_type": "markdown",
   "metadata": {},
   "source": [
    "Prerare the dataset:"
   ]
  },
  {
   "cell_type": "code",
   "execution_count": 6,
   "metadata": {},
   "outputs": [
    {
     "name": "stdout",
     "output_type": "stream",
     "text": [
      "[[ 1.87870959  2.00343641 -1.14144832  0.93114306 -0.27953993 -0.65518798]\n",
      " [ 1.87870959  1.85244015 -0.95509121  0.16030267  6.17679264  0.78654429]\n",
      " [ 1.87870959  1.85244015 -0.95509121 -0.22511753  3.59425961 -0.65518798]\n",
      " [ 1.87870959  1.70144389 -0.76873411  2.47282384  4.23989287 -1.13576541]\n",
      " [ 1.69576116  1.85244015 -1.14144832  0.16030267 -0.27953993 -1.13576541]\n",
      " [ 1.69576116  1.39945137 -0.39601989  0.54572286  2.94862635 -0.65518798]\n",
      " [ 1.32986431  1.55044763 -0.76873411  4.78534502  3.59425961 -0.65518798]\n",
      " [ 1.32986431  1.24845511 -0.582377    4.01450463  3.59425961 -0.17461056]\n",
      " [ 0.78101904 -1.16748506  2.58569384  0.54572286 -0.27953993 -1.13576541]\n",
      " [ 0.41512219  0.79546633 -1.14144832 -0.61053772 -0.27953993 -1.13576541]]\n",
      "Train set: (1688, 6) (1688,)\n",
      "Test set: (423, 6) (423,)\n"
     ]
    }
   ],
   "source": [
    "#https://www.kaggle.com/cclayford/statbunker-football-stats?select=Player+Stats+2019-20.csv\n",
    "\n",
    "df_raw = pd.read_csv(\"data/players_stats_1920.csv\")\n",
    "df = df_raw.loc[(df_raw['Type Of Goal'] == 'Player'), ['Player','Position','Appearances','Started','Started As A Sub','Goals','Assists','Yellow Cards']]\n",
    "df[['Appearances','Started','Started As A Sub','Goals','Assists','Yellow Cards']] = df[['Appearances','Started','Started As A Sub','Goals','Assists','Yellow Cards']].astype(int)\n",
    "df = df[df['Appearances']>5]\n",
    "\n",
    "x = df[['Appearances','Started','Started As A Sub','Goals','Assists','Yellow Cards']].values  #.astype(float)\n",
    "y = df['Position'].values\n",
    "\n",
    "x = preprocessing.StandardScaler().fit(x).transform(x.astype(float))\n",
    "print(x[0:10])\n",
    "\n",
    "x_train, x_test, y_train, y_test = train_test_split( x, y, test_size=0.2, random_state=4)\n",
    "print ('Train set:', x_train.shape,  y_train.shape)\n",
    "print ('Test set:', x_test.shape,  y_test.shape)"
   ]
  },
  {
   "cell_type": "markdown",
   "metadata": {},
   "source": [
    "Train Model and Predict"
   ]
  },
  {
   "cell_type": "code",
   "execution_count": 7,
   "metadata": {},
   "outputs": [
    {
     "name": "stdout",
     "output_type": "stream",
     "text": [
      "KNeighborsClassifier(algorithm='auto', leaf_size=30, metric='minkowski',\n",
      "                     metric_params=None, n_jobs=None, n_neighbors=15, p=2,\n",
      "                     weights='uniform')\n",
      "Train set Accuracy:  0.6030805687203792\n",
      "Test set Accuracy:  0.4988179669030733\n"
     ]
    }
   ],
   "source": [
    "k = 15\n",
    "neigh = KNeighborsClassifier(n_neighbors = k).fit(x_train,y_train)\n",
    "\n",
    "print(neigh)\n",
    "\n",
    "yhat = neigh.predict(x_test)\n",
    "yhat[0:10]\n",
    "\n",
    "print(\"Train set Accuracy: \", metrics.accuracy_score(y_train, neigh.predict(x_train)))\n",
    "print(\"Test set Accuracy: \", metrics.accuracy_score(y_test, yhat))\n"
   ]
  },
  {
   "cell_type": "code",
   "execution_count": null,
   "metadata": {},
   "outputs": [],
   "source": []
  }
 ],
 "metadata": {
  "kernelspec": {
   "display_name": "Python 3",
   "language": "python",
   "name": "python3"
  },
  "language_info": {
   "codemirror_mode": {
    "name": "ipython",
    "version": 3
   },
   "file_extension": ".py",
   "mimetype": "text/x-python",
   "name": "python",
   "nbconvert_exporter": "python",
   "pygments_lexer": "ipython3",
   "version": "3.7.6"
  }
 },
 "nbformat": 4,
 "nbformat_minor": 4
}
